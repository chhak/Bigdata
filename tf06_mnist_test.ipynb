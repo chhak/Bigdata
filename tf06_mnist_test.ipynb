{
  "nbformat": 4,
  "nbformat_minor": 0,
  "metadata": {
    "colab": {
      "name": "tf06_mnist_test.ipynb",
      "provenance": [],
      "collapsed_sections": [],
      "mount_file_id": "18gnUibElCyl-1GgAvGso4xcx8RKxqOFM",
      "authorship_tag": "ABX9TyNRwKWDnMQYYbxcsbjj9ZyY",
      "include_colab_link": true
    },
    "kernelspec": {
      "name": "python3",
      "display_name": "Python 3"
    }
  },
  "cells": [
    {
      "cell_type": "markdown",
      "metadata": {
        "id": "view-in-github",
        "colab_type": "text"
      },
      "source": [
        "<a href=\"https://colab.research.google.com/github/chhak/Bigdata/blob/master/tf06_mnist_test.ipynb\" target=\"_parent\"><img src=\"https://colab.research.google.com/assets/colab-badge.svg\" alt=\"Open In Colab\"/></a>"
      ]
    },
    {
      "cell_type": "code",
      "metadata": {
        "id": "eZZaH6l4GucM",
        "colab_type": "code",
        "colab": {}
      },
      "source": [
        "\"\"\"\n",
        "날짜 : 2020/08/19\n",
        "이름 : 김철학\n",
        "내용 : 딥러닝 mnist 이미지 분류 실습하기\n",
        "\"\"\"\n",
        "import matplotlib.pyplot as plt\n",
        "import numpy as np\n",
        "from tensorflow.keras.datasets.mnist import load_data\n",
        "from tensorflow.keras.utils import to_categorical\n",
        "from tensorflow.keras.models import Sequential\n",
        "from tensorflow.keras.layers import Dense, Flatten\n",
        "from sklearn.model_selection import train_test_split\n",
        "from PIL import Image #파이썬 이미지 처리 라이브러리"
      ],
      "execution_count": 3,
      "outputs": []
    },
    {
      "cell_type": "code",
      "metadata": {
        "id": "6wefU5q8IePp",
        "colab_type": "code",
        "colab": {
          "base_uri": "https://localhost:8080/",
          "height": 35
        },
        "outputId": "3aff58b1-cf07-4a0f-d393-a438d3bfaff4"
      },
      "source": [
        "#구글드라이브 연동\n",
        "from google.colab import drive\n",
        "drive.mount('/content/drive')"
      ],
      "execution_count": 4,
      "outputs": [
        {
          "output_type": "stream",
          "text": [
            "Drive already mounted at /content/drive; to attempt to forcibly remount, call drive.mount(\"/content/drive\", force_remount=True).\n"
          ],
          "name": "stdout"
        }
      ]
    },
    {
      "cell_type": "code",
      "metadata": {
        "id": "L6ZP2MPJI6rq",
        "colab_type": "code",
        "colab": {}
      },
      "source": [
        "#구글드라이브 이미지 로드하기\n",
        "img1 = Image.open('/content/drive/My Drive/Tensorflow_works/data/mnist_img1.jpg')\n",
        "img2 = Image.open('/content/drive/My Drive/Tensorflow_works/data/mnist_img2.jpg')\n",
        "img3 = Image.open('/content/drive/My Drive/Tensorflow_works/data/mnist_img3.jpg')\n",
        "img4 = Image.open('/content/drive/My Drive/Tensorflow_works/data/mnist_img4.jpg')\n",
        "img5 = Image.open('/content/drive/My Drive/Tensorflow_works/data/mnist_img5.jpg')\n",
        "\n",
        "#이미지 파일의 픽셀값 추출\n",
        "img1_px = np.array(img1)\n",
        "img2_px = np.array(img2)\n",
        "img3_px = np.array(img3)\n",
        "img4_px = np.array(img4)\n",
        "img5_px = np.array(img5)\n",
        "\n",
        "img1_px"
      ],
      "execution_count": null,
      "outputs": []
    },
    {
      "cell_type": "code",
      "metadata": {
        "id": "0ip3PoQiKCQS",
        "colab_type": "code",
        "colab": {
          "base_uri": "https://localhost:8080/",
          "height": 70
        },
        "outputId": "f6339b0e-2108-40b8-a31a-c4d15257adb3"
      },
      "source": [
        "#학습데이터 로드\n",
        "(mnist_train_data, mnist_train_label), (mnist_test_data, mnist_test_label) = load_data()\n",
        "\n",
        "#데이터 형태 확인\n",
        "print(mnist_train_data.shape, mnist_train_label.shape)\n",
        "print(mnist_test_data.shape, mnist_test_label.shape)\n",
        "print(mnist_train_label)"
      ],
      "execution_count": 18,
      "outputs": [
        {
          "output_type": "stream",
          "text": [
            "(60000, 28, 28) (60000,)\n",
            "(10000, 28, 28) (10000,)\n",
            "[5 0 4 ... 5 6 8]\n"
          ],
          "name": "stdout"
        }
      ]
    },
    {
      "cell_type": "code",
      "metadata": {
        "id": "PuvMmto6LFdQ",
        "colab_type": "code",
        "colab": {
          "base_uri": "https://localhost:8080/",
          "height": 244
        },
        "outputId": "037874c5-84a8-4334-ffe1-89a9f42ec4f4"
      },
      "source": [
        "#데이터 샘플 이미지 출력\n",
        "random_idx = np.random.randint(60000, size=5)\n",
        "print(random_idx)\n",
        "\n",
        "plt.figure(figsize=(5, 5))\n",
        "\n",
        "for i, idx in enumerate(random_idx):\n",
        "  plt.subplot(3, 3, i+1)\n",
        "  plt.xticks([])\n",
        "  plt.yticks([])\n",
        "  label = mnist_train_label[idx]\n",
        "  plt.imshow(mnist_train_data[idx, :])\n",
        "  plt.title('number is %d' % label)\n"
      ],
      "execution_count": 24,
      "outputs": [
        {
          "output_type": "stream",
          "text": [
            "[52325 19386 37075 47793 24105]\n"
          ],
          "name": "stdout"
        },
        {
          "output_type": "display_data",
          "data": {
            "image/png": "[encoded data removed]",
            "text/plain": [
              "<Figure size 360x360 with 5 Axes>"
            ]
          },
          "metadata": {
            "tags": []
          }
        }
      ]
    },
    {
      "cell_type": "code",
      "metadata": {
        "id": "SZBc17blNTgw",
        "colab_type": "code",
        "colab": {
          "base_uri": "https://localhost:8080/",
          "height": 52
        },
        "outputId": "280cc969-f7b2-41c5-f459-70a6258a8cfa"
      },
      "source": [
        "#데이터셋 분할하기\n",
        "train_data, test_data, train_label, test_label = train_test_split(mnist_train_data, mnist_train_label)\n",
        "print('훈련 데이터 :', train_data.shape)\n",
        "print('검증 데이터 :', test_data.shape)"
      ],
      "execution_count": 25,
      "outputs": [
        {
          "output_type": "stream",
          "text": [
            "훈련 데이터 : (45000, 28, 28)\n",
            "검증 데이터 : (15000, 28, 28)\n"
          ],
          "name": "stdout"
        }
      ]
    },
    {
      "cell_type": "code",
      "metadata": {
        "id": "7d8Y3Z1POAX6",
        "colab_type": "code",
        "colab": {}
      },
      "source": [
        "#모델학습을 위한 데이터 전처리(정규화)\n",
        "train_data = train_data / 255\n",
        "test_data = test_data / 255\n",
        "mnist_test_data = mnist_test_data / 255\n",
        "\n",
        "#각 데이터의 레이블을 범주형(One-hot encoding) 형태로 변환\n",
        "train_label = to_categorical(train_label)\n",
        "test_label = to_categorical(test_label)\n",
        "mnist_test_label = to_categorical(mnist_test_label)"
      ],
      "execution_count": 28,
      "outputs": []
    },
    {
      "cell_type": "code",
      "metadata": {
        "id": "Fme6vxYMOoWY",
        "colab_type": "code",
        "colab": {}
      },
      "source": [
        "#학습모델 구성하기\n",
        "model = Sequential()\n",
        "model.add(Flatten(input_shape=(28, 28))) #입력층\n",
        "model.add(Dense(64, activation='relu'))  #은닉층\n",
        "model.add(Dense(32, activation='relu'))  #은닉층\n",
        "model.add(Dense(10, activation='softmax')) #출력층"
      ],
      "execution_count": 29,
      "outputs": []
    },
    {
      "cell_type": "code",
      "metadata": {
        "id": "m7sgsuCcOmIQ",
        "colab_type": "code",
        "colab": {}
      },
      "source": [
        "#학습모델 설정하기\n",
        "model.compile(optimizer='adam',\n",
        "              loss='categorical_crossentropy',\n",
        "              metrics=['acc'])"
      ],
      "execution_count": 31,
      "outputs": []
    },
    {
      "cell_type": "code",
      "metadata": {
        "id": "5Sj2SUVwQLEN",
        "colab_type": "code",
        "colab": {}
      },
      "source": [
        "#학습하기\n",
        "model.fit(train_data,\n",
        "          train_label,\n",
        "          epochs=30,\n",
        "          batch_size=128,\n",
        "          validation_data=(test_data, test_label))\n"
      ],
      "execution_count": null,
      "outputs": []
    },
    {
      "cell_type": "code",
      "metadata": {
        "id": "ecbx9ZYUQ0Cm",
        "colab_type": "code",
        "colab": {
          "base_uri": "https://localhost:8080/",
          "height": 52
        },
        "outputId": "fdfb5094-d0e6-45b2-9875-c0f808e46846"
      },
      "source": [
        "#평가하기\n",
        "model.evaluate(mnist_test_data, mnist_test_label)"
      ],
      "execution_count": 33,
      "outputs": [
        {
          "output_type": "stream",
          "text": [
            "313/313 [==============================] - 0s 1ms/step - loss: 1.7121 - acc: 0.3461\n"
          ],
          "name": "stdout"
        },
        {
          "output_type": "execute_result",
          "data": {
            "text/plain": [
              "[1.712110161781311, 0.34610000252723694]"
            ]
          },
          "metadata": {
            "tags": []
          },
          "execution_count": 33
        }
      ]
    },
    {
      "cell_type": "code",
      "metadata": {
        "id": "ZnMu9-6ZQ77l",
        "colab_type": "code",
        "colab": {}
      },
      "source": [
        "#테스트하기\n",
        "result = model.predict(mnist_test_data)\n",
        "result.round()"
      ],
      "execution_count": null,
      "outputs": []
    }
  ]
}